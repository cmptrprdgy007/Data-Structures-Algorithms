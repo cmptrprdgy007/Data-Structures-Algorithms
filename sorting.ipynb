{
 "cells": [
  {
   "cell_type": "code",
   "execution_count": null,
   "metadata": {},
   "outputs": [],
   "source": [
    "# Basic sorting algorithms\n"
   ]
  },
  {
   "cell_type": "code",
   "execution_count": 9,
   "metadata": {},
   "outputs": [
    {
     "name": "stdout",
     "output_type": "stream",
     "text": [
      "Minimum value: 3\n",
      "Maximum value: 9\n"
     ]
    }
   ],
   "source": [
    "l = [9,7,3,3]\n",
    "\n",
    "# Initialize min and max to the first element of the list\n",
    "min_value = l[0]\n",
    "max_value = l[0]\n",
    "\n",
    "# Iterate through the list and update min_value and max_value\n",
    "for i in l:\n",
    "    if i < min_value:\n",
    "        min_value = i\n",
    "    if i > max_value:\n",
    "        max_value = i\n",
    "\n",
    "print(\"Minimum value:\", min_value)\n",
    "print(\"Maximum value:\", max_value)\n"
   ]
  },
  {
   "cell_type": "code",
   "execution_count": 15,
   "metadata": {},
   "outputs": [
    {
     "data": {
      "text/plain": [
       "[0, 0, 1, 3, 4, 5, 6, 7, 7, 8]"
      ]
     },
     "execution_count": 15,
     "metadata": {},
     "output_type": "execute_result"
    }
   ],
   "source": [
    "def selection_sort(arr):\n",
    "    lent = len(arr)\n",
    "    \n",
    "    for i in range(lent):  # Outer loop stops at len(arr) - 2\n",
    "        mini = i  # Assume the first unsorted element is the minimum\n",
    "        \n",
    "        # Inner loop to find the minimum element in the unsorted part\n",
    "        for j in range(i + 1, lent):  \n",
    "            if arr[j] < arr[mini]:  # Find the minimum in the unsorted part\n",
    "                mini = j\n",
    "        \n",
    "        # Swap the found minimum element with the first unsorted element\n",
    "        arr[i], arr[mini] = arr[mini], arr[i]  # Swap regardless\n",
    "\n",
    "    return arr\n",
    "selection_sort([4,7,3,1,5,6,7,8,0,0])"
   ]
  },
  {
   "cell_type": "code",
   "execution_count": null,
   "metadata": {},
   "outputs": [],
   "source": []
  },
  {
   "cell_type": "code",
   "execution_count": 16,
   "metadata": {},
   "outputs": [
    {
     "data": {
      "text/plain": [
       "[1, 2, 3, 6]"
      ]
     },
     "execution_count": 16,
     "metadata": {},
     "output_type": "execute_result"
    }
   ],
   "source": [
    "# selection _ sort practice\n",
    "\n",
    "\n",
    "def selection(arr):\n",
    "    for i in range(len(arr)):\n",
    "\n",
    "        mini = i # first value is minimum value\n",
    "\n",
    "        for j in range(i+1,len(arr)):\n",
    "            if arr[j] < arr[mini]:\n",
    "                mini =j # update mini index value\n",
    "        arr[i],arr[mini] = arr[mini],arr[i] # swap he \n",
    "    return arr\n",
    "selection([1,6,3,2])\n"
   ]
  },
  {
   "cell_type": "code",
   "execution_count": null,
   "metadata": {},
   "outputs": [],
   "source": [
    "# steps - select minimum and then swap concept"
   ]
  },
  {
   "cell_type": "code",
   "execution_count": 3,
   "metadata": {},
   "outputs": [
    {
     "data": {
      "text/plain": [
       "[2, 3, 8, 67]"
      ]
     },
     "execution_count": 3,
     "metadata": {},
     "output_type": "execute_result"
    }
   ],
   "source": [
    "# Bubble sort algorithm - part 1 \n",
    "def bubble(arr):\n",
    "    for i in range(len(arr)):\n",
    "        for j in range(i+1,len(arr)):\n",
    "            if arr[i] > arr[j]:\n",
    "                arr[i],arr[j] = arr[j],arr[i] # swap\n",
    "    return arr\n",
    "bubble([3,67,2,8])"
   ]
  },
  {
   "cell_type": "code",
   "execution_count": null,
   "metadata": {},
   "outputs": [],
   "source": [
    "# Bubble sort algorithm - part 1 \n",
    "def bubble(arr):\n",
    "    for i in range(len(arr)):\n",
    "        for j in range(i+1,len(arr)):\n",
    "            if arr[i] > arr[j]:\n",
    "                arr[i],arr[j] = arr[j],arr[i] # swap\n",
    "    return arr\n",
    "bubble([3,67,2,8])"
   ]
  },
  {
   "cell_type": "code",
   "execution_count": 9,
   "metadata": {},
   "outputs": [
    {
     "data": {
      "text/plain": [
       "[2, 3, 8, 67]"
      ]
     },
     "execution_count": 9,
     "metadata": {},
     "output_type": "execute_result"
    }
   ],
   "source": [
    "# Bubble sort algorithm - part 2\n",
    "def bubble(arr):\n",
    "    for i in range(len(arr)):\n",
    "        for j in range(0,len(arr)-i-1):\n",
    "            if arr[j] > arr[j+1]:\n",
    "                arr[j],arr[j+1] = arr[j+1],arr[j] # swap\n",
    "    return arr\n",
    "bubble([3,67,2,8])"
   ]
  },
  {
   "cell_type": "code",
   "execution_count": 19,
   "metadata": {},
   "outputs": [
    {
     "data": {
      "text/plain": [
       "[1, 2, 3, 4]"
      ]
     },
     "execution_count": 19,
     "metadata": {},
     "output_type": "execute_result"
    }
   ],
   "source": [
    "# Insertion sort  - algorithm\n",
    "\n",
    "def insertion(arr):\n",
    "   # start from 2nd element\n",
    "    for i in range(1,len(arr)):\n",
    "        j = i\n",
    "\n",
    "        while arr[j-1] > arr[j] and j > 0:\n",
    "            arr[j-1] , arr[j] = arr[j] , arr[j-1]\n",
    "            j = j -1\n",
    "    return arr\n",
    "   \n",
    "insertion([3,1,4,2])"
   ]
  },
  {
   "cell_type": "code",
   "execution_count": 31,
   "metadata": {},
   "outputs": [
    {
     "data": {
      "text/plain": [
       "[1, 2, 5, 6]"
      ]
     },
     "execution_count": 31,
     "metadata": {},
     "output_type": "execute_result"
    }
   ],
   "source": [
    "# Merge sort algorithm\n",
    "\n",
    "def merge(arr):\n",
    "    if len(arr) > 1:\n",
    "        left_arr = arr[:len(arr)//2]\n",
    "        right_arr = arr[len(arr)//2:]\n",
    "\n",
    "        # recursive call\n",
    "\n",
    "        merge(left_arr)\n",
    "        merge(right_arr)\n",
    "\n",
    "        #merge\n",
    "        #compare with leftmost elemnt of left arry and left element of right array\n",
    "        i = 0 #left array index\n",
    "        j = 0 #right array index\n",
    "        k = 0 #merged array index\n",
    "\n",
    "        while i < len(left_arr) and j < len(right_arr):\n",
    "            if left_arr[i] < right_arr[j]:\n",
    "                arr[k] = left_arr[i]\n",
    "                i = i+1\n",
    "        \n",
    "            else:\n",
    "                arr[k] =  right_arr[j]\n",
    "                j = j+1\n",
    "            k = k+1\n",
    "\n",
    "        while i < len(left_arr):\n",
    "            arr[k] = left_arr[i]\n",
    "            i= i+1\n",
    "            k=k+1\n",
    "\n",
    "        while j < len(right_arr):\n",
    "            arr[k] = right_arr[j]\n",
    "            j = j+1\n",
    "            k = k+1\n",
    " \n",
    "    return arr\n",
    "\n",
    "merge([2,6,5,1])\n",
    "\n",
    "\n",
    "    "
   ]
  },
  {
   "cell_type": "code",
   "execution_count": null,
   "metadata": {},
   "outputs": [],
   "source": [
    "# Quick sort algorithm\n"
   ]
  }
 ],
 "metadata": {
  "kernelspec": {
   "display_name": "Python 3",
   "language": "python",
   "name": "python3"
  },
  "language_info": {
   "codemirror_mode": {
    "name": "ipython",
    "version": 3
   },
   "file_extension": ".py",
   "mimetype": "text/x-python",
   "name": "python",
   "nbconvert_exporter": "python",
   "pygments_lexer": "ipython3",
   "version": "3.12.4"
  }
 },
 "nbformat": 4,
 "nbformat_minor": 2
}
