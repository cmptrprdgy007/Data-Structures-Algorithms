{
 "cells": [
  {
   "cell_type": "code",
   "execution_count": null,
   "metadata": {},
   "outputs": [],
   "source": [
    "# Basic sorting algorithms\n"
   ]
  },
  {
   "cell_type": "code",
   "execution_count": 9,
   "metadata": {},
   "outputs": [
    {
     "name": "stdout",
     "output_type": "stream",
     "text": [
      "Minimum value: 3\n",
      "Maximum value: 9\n"
     ]
    }
   ],
   "source": [
    "l = [9,7,3,3]\n",
    "\n",
    "# Initialize min and max to the first element of the list\n",
    "min_value = l[0]\n",
    "max_value = l[0]\n",
    "\n",
    "# Iterate through the list and update min_value and max_value\n",
    "for i in l:\n",
    "    if i < min_value:\n",
    "        min_value = i\n",
    "    if i > max_value:\n",
    "        max_value = i\n",
    "\n",
    "print(\"Minimum value:\", min_value)\n",
    "print(\"Maximum value:\", max_value)\n"
   ]
  },
  {
   "cell_type": "code",
   "execution_count": 15,
   "metadata": {},
   "outputs": [
    {
     "data": {
      "text/plain": [
       "[0, 0, 1, 3, 4, 5, 6, 7, 7, 8]"
      ]
     },
     "execution_count": 15,
     "metadata": {},
     "output_type": "execute_result"
    }
   ],
   "source": [
    "def selection_sort(arr):\n",
    "    lent = len(arr)\n",
    "    \n",
    "    for i in range(lent):  # Outer loop stops at len(arr) - 2\n",
    "        mini = i  # Assume the first unsorted element is the minimum\n",
    "        \n",
    "        # Inner loop to find the minimum element in the unsorted part\n",
    "        for j in range(i + 1, lent):  \n",
    "            if arr[j] < arr[mini]:  # Find the minimum in the unsorted part\n",
    "                mini = j\n",
    "        \n",
    "        # Swap the found minimum element with the first unsorted element\n",
    "        arr[i], arr[mini] = arr[mini], arr[i]  # Swap regardless\n",
    "\n",
    "    return arr\n",
    "selection_sort([4,7,3,1,5,6,7,8,0,0])"
   ]
  },
  {
   "cell_type": "code",
   "execution_count": null,
   "metadata": {},
   "outputs": [],
   "source": []
  },
  {
   "cell_type": "code",
   "execution_count": 16,
   "metadata": {},
   "outputs": [
    {
     "data": {
      "text/plain": [
       "[1, 2, 3, 6]"
      ]
     },
     "execution_count": 16,
     "metadata": {},
     "output_type": "execute_result"
    }
   ],
   "source": [
    "# selection _ sort practice\n",
    "\n",
    "\n",
    "def selection(arr):\n",
    "    for i in range(len(arr)):\n",
    "\n",
    "        mini = i # first value is minimum value\n",
    "\n",
    "        for j in range(i+1,len(arr)):\n",
    "            if arr[j] < arr[mini]:\n",
    "                mini =j # update mini index value\n",
    "        arr[i],arr[mini] = arr[mini],arr[i] # swap he \n",
    "    return arr\n",
    "selection([1,6,3,2])\n"
   ]
  },
  {
   "cell_type": "code",
   "execution_count": null,
   "metadata": {},
   "outputs": [],
   "source": [
    "# steps - select minimum and then swap concept"
   ]
  }
 ],
 "metadata": {
  "kernelspec": {
   "display_name": "Python 3",
   "language": "python",
   "name": "python3"
  },
  "language_info": {
   "codemirror_mode": {
    "name": "ipython",
    "version": 3
   },
   "file_extension": ".py",
   "mimetype": "text/x-python",
   "name": "python",
   "nbconvert_exporter": "python",
   "pygments_lexer": "ipython3",
   "version": "3.12.4"
  }
 },
 "nbformat": 4,
 "nbformat_minor": 2
}
