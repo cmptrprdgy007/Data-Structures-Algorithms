{
 "cells": [
  {
   "cell_type": "code",
   "execution_count": null,
   "metadata": {},
   "outputs": [],
   "source": [
    "# Baisc maths concepts covered\n",
    "\n"
   ]
  },
  {
   "cell_type": "code",
   "execution_count": 40,
   "metadata": {},
   "outputs": [],
   "source": [
    "# Palindrome checker"
   ]
  },
  {
   "cell_type": "code",
   "execution_count": 78,
   "metadata": {},
   "outputs": [
    {
     "name": "stdout",
     "output_type": "stream",
     "text": [
      "0\n",
      "Its a palindrome number\n",
      "121\n"
     ]
    }
   ],
   "source": [
    "n = int(input('Enter the  number to check if palindrome'))\n",
    "rev = 0\n",
    "temp = n\n",
    "\n",
    "for i in range(len(str(n))):  # Loop runs 4 times since we know the number has 4 digits\n",
    "    rem = temp % 10  # Get the last digit\n",
    "    rev = (rev * 10) + rem  # Build the reversed number\n",
    "    temp = temp // 10  # Remove the last digit\n",
    "print(temp)\n",
    "if n == rev:\n",
    "    print('Its a palindrome number')\n",
    "else:\n",
    "    print(\"Not a palindrome number\")\n",
    "print(rev)"
   ]
  },
  {
   "cell_type": "code",
   "execution_count": 46,
   "metadata": {},
   "outputs": [
    {
     "name": "stdout",
     "output_type": "stream",
     "text": [
      "121\n",
      "Palindrome\n"
     ]
    }
   ],
   "source": [
    "# use string slice for quick check  s[::-1]\n",
    "\n",
    "n1 = input('Enter any number ')\n",
    "rev = n1[::-1]\n",
    "print(int(rev))\n",
    "if int(n1) == int(rev):\n",
    "    print('Palindrome')\n",
    "else:\n",
    "    print('Not palindorme')"
   ]
  },
  {
   "cell_type": "code",
   "execution_count": 49,
   "metadata": {},
   "outputs": [
    {
     "name": "stdout",
     "output_type": "stream",
     "text": [
      "4\n"
     ]
    }
   ],
   "source": [
    "# count no of digits\n",
    "\n",
    "n = 1234\n",
    "print(len(str(n)))"
   ]
  },
  {
   "cell_type": "code",
   "execution_count": null,
   "metadata": {},
   "outputs": [],
   "source": [
    "# armstrog number -  cubic digit sum should be equal to the number"
   ]
  },
  {
   "cell_type": "code",
   "execution_count": 76,
   "metadata": {},
   "outputs": [
    {
     "name": "stdout",
     "output_type": "stream",
     "text": [
      "Armstrong number \n"
     ]
    }
   ],
   "source": [
    "n = '371'\n",
    "l1 = [int(i)**3 for i in n]  # Convert each character to an integer and cube it\n",
    "if sum(l1) == int(n):\n",
    "    print('Armstrong number ')\n",
    "else:\n",
    "    print('Not a armstrong number')  # Output: [1, 8]\n"
   ]
  },
  {
   "cell_type": "code",
   "execution_count": 4,
   "metadata": {},
   "outputs": [
    {
     "name": "stdout",
     "output_type": "stream",
     "text": [
      "[1, 2, 3, 4, 6, 8, 12, 24]\n",
      "[0, 1, 1, 2, 3, 4, 6, 12]\n"
     ]
    }
   ],
   "source": [
    "num = 24\n",
    "\n",
    "div = [i for i in range(1, num + 1) if num % i == 0]\n",
    "print(div)\n",
    "s=lambda x : x//2\n",
    "x = list(map(s,div))\n",
    "print(x)"
   ]
  },
  {
   "cell_type": "code",
   "execution_count": 9,
   "metadata": {},
   "outputs": [
    {
     "name": "stdout",
     "output_type": "stream",
     "text": [
      "[1, 11]\n"
     ]
    }
   ],
   "source": [
    "# All divisors\n",
    "\n",
    "num = 11\n",
    "div = [i for i in range(1,num + 1) if num % i == 0]\n",
    "print(div)"
   ]
  },
  {
   "cell_type": "code",
   "execution_count": 16,
   "metadata": {},
   "outputs": [
    {
     "data": {
      "text/plain": [
       "False"
      ]
     },
     "execution_count": 16,
     "metadata": {},
     "output_type": "execute_result"
    }
   ],
   "source": [
    "# Prime checker\n",
    "\n",
    "def is_prime(num):\n",
    "    if num < 2:\n",
    "        return True\n",
    "    for i in range(2,num):\n",
    "\n",
    "        if num % i == 0:\n",
    "            return False\n",
    "    return True\n",
    "\n",
    "is_prime(22)\n",
    "\n"
   ]
  }
 ],
 "metadata": {
  "kernelspec": {
   "display_name": "Python 3",
   "language": "python",
   "name": "python3"
  },
  "language_info": {
   "codemirror_mode": {
    "name": "ipython",
    "version": 3
   },
   "file_extension": ".py",
   "mimetype": "text/x-python",
   "name": "python",
   "nbconvert_exporter": "python",
   "pygments_lexer": "ipython3",
   "version": "3.12.4"
  }
 },
 "nbformat": 4,
 "nbformat_minor": 2
}
