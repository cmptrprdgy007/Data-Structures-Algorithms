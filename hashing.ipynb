{
 "cells": [
  {
   "cell_type": "code",
   "execution_count": null,
   "metadata": {},
   "outputs": [],
   "source": [
    "# Basics of hashing in python"
   ]
  },
  {
   "cell_type": "code",
   "execution_count": 5,
   "metadata": {},
   "outputs": [
    {
     "data": {
      "text/plain": [
       "0"
      ]
     },
     "execution_count": 5,
     "metadata": {},
     "output_type": "execute_result"
    }
   ],
   "source": [
    "# find count of elements from an array - Brute force\n",
    "\n",
    "def find(arr,ele):\n",
    "    c = 0\n",
    "    for i in range(len(arr)):\n",
    "        if arr[i] == ele:\n",
    "            c = c+1\n",
    "    return c\n",
    "find([1,1,2,4],5)\n"
   ]
  },
  {
   "cell_type": "code",
   "execution_count": 18,
   "metadata": {},
   "outputs": [
    {
     "data": {
      "text/plain": [
       "2"
      ]
     },
     "execution_count": 18,
     "metadata": {},
     "output_type": "execute_result"
    }
   ],
   "source": [
    "# find count of elements from an array - Brute force\n",
    "\n",
    "def find(arr,ele):\n",
    "    c = 0\n",
    "    h = [hash(i) for i in arr]\n",
    "    for i in range(len(arr)):\n",
    "        if h[i] == ele:\n",
    "            c = c+1\n",
    "    return c\n",
    "find([1,1,2,4],1)\n"
   ]
  },
  {
   "cell_type": "code",
   "execution_count": 13,
   "metadata": {},
   "outputs": [
    {
     "name": "stdout",
     "output_type": "stream",
     "text": [
      "4\n"
     ]
    }
   ],
   "source": [
    "l = [1,2,3,4]\n",
    "h  = hash(l[3])\n",
    "print(h)"
   ]
  },
  {
   "cell_type": "code",
   "execution_count": 16,
   "metadata": {},
   "outputs": [
    {
     "name": "stdout",
     "output_type": "stream",
     "text": [
      "Hash value of 'apple': 4\n"
     ]
    }
   ],
   "source": [
    "# Hashing example\n",
    "key = 4\n",
    "hash_value = hash(key)  # This produces a hash value for \"apple\"\n",
    "print(\"Hash value of 'apple':\", hash_value)\n"
   ]
  },
  {
   "cell_type": "code",
   "execution_count": 48,
   "metadata": {},
   "outputs": [
    {
     "data": {
      "text/plain": [
       "({'k': 6, 'a': 1}, 'k')"
      ]
     },
     "execution_count": 48,
     "metadata": {},
     "output_type": "execute_result"
    }
   ],
   "source": [
    "def find_1(arr):\n",
    "    counter = {}\n",
    "  \n",
    "    for ele in arr:\n",
    "        if ele in counter:\n",
    "            counter[ele] = counter[ele] + 1\n",
    "        else:\n",
    "            counter[ele] = 1  \n",
    "    max_ = max(counter.keys())\n",
    "    \n",
    "    return counter,max_\n",
    "find_1('kkkkkka')  # key is the element and value is set to 1 \n"
   ]
  }
 ],
 "metadata": {
  "kernelspec": {
   "display_name": "Python 3",
   "language": "python",
   "name": "python3"
  },
  "language_info": {
   "codemirror_mode": {
    "name": "ipython",
    "version": 3
   },
   "file_extension": ".py",
   "mimetype": "text/x-python",
   "name": "python",
   "nbconvert_exporter": "python",
   "pygments_lexer": "ipython3",
   "version": "3.12.4"
  }
 },
 "nbformat": 4,
 "nbformat_minor": 2
}
