{
 "cells": [
  {
   "cell_type": "code",
   "execution_count": null,
   "metadata": {},
   "outputs": [],
   "source": [
    "# Trees implementation\n"
   ]
  },
  {
   "cell_type": "code",
   "execution_count": 4,
   "metadata": {},
   "outputs": [],
   "source": [
    "class Node:\n",
    "    def __init__(self,data):\n",
    "        self.left = None\n",
    "        self.right = None\n",
    "        self.val = data\n",
    "\n",
    "\n",
    "    def inorder(self):\n",
    "\n",
    "        if self.left:\n",
    "            self.left.inorder()\n",
    "        print(self.val,end='->')\n",
    "        if self.right:\n",
    "            self.right.inorder()\n",
    "\n",
    "    def preorder(self):\n",
    "        print(self.val,end='->')\n",
    "        if self.left:\n",
    "            self.left.preorder()\n",
    "        if self.right:\n",
    "            self.right.preorder()\n",
    "    def postorder(self):\n",
    "        if self.left:\n",
    "            self.left.postorder()\n",
    "        if self.right:\n",
    "            self.right.postorder()\n",
    "        print(self.val,end='->')\n",
    "        \n",
    "\n",
    "\n",
    "\n",
    "\n"
   ]
  },
  {
   "cell_type": "code",
   "execution_count": 5,
   "metadata": {},
   "outputs": [],
   "source": [
    "root = Node(1)\n",
    "root.left = Node(2)\n",
    "root.right = Node(3)\n",
    "root.left.left = Node(4)"
   ]
  },
  {
   "cell_type": "code",
   "execution_count": 6,
   "metadata": {},
   "outputs": [
    {
     "name": "stdout",
     "output_type": "stream",
     "text": [
      "4->2->1->3->"
     ]
    }
   ],
   "source": [
    "root.inorder()"
   ]
  },
  {
   "cell_type": "code",
   "execution_count": 7,
   "metadata": {},
   "outputs": [
    {
     "name": "stdout",
     "output_type": "stream",
     "text": [
      "1->2->4->3->"
     ]
    }
   ],
   "source": [
    "root.preorder()"
   ]
  },
  {
   "cell_type": "code",
   "execution_count": 8,
   "metadata": {},
   "outputs": [
    {
     "name": "stdout",
     "output_type": "stream",
     "text": [
      "4->2->3->1->"
     ]
    }
   ],
   "source": [
    "root.postorder()"
   ]
  },
  {
   "cell_type": "code",
   "execution_count": 9,
   "metadata": {},
   "outputs": [],
   "source": [
    "# Binar Search Trees\n"
   ]
  },
  {
   "cell_type": "code",
   "execution_count": 215,
   "metadata": {},
   "outputs": [],
   "source": [
    "class Node:\n",
    "    def __init__(self, data):\n",
    "        self.left = None\n",
    "        self.right = None\n",
    "        self.data = data\n",
    "\n",
    "    def minval(self):\n",
    "        \"\"\"Find the minimum value in the BST.\"\"\"\n",
    "        current = self\n",
    "        while current.left is not None:\n",
    "            current = current.left\n",
    "        return current\n",
    "    \n",
    "    def maxval(self,root):\n",
    "        temp = root\n",
    "        while temp.right is not None:\n",
    "            temp = temp.right\n",
    "        return temp.data # full node or temp.data to get full value\n",
    "\n",
    "    def inorder(self,root):\n",
    "        if root is not None:\n",
    "            self.inorder(root.left)\n",
    "            print(str(root.data ) + '->',end=' ')\n",
    "            self.inorder(root.right)\n",
    "\n",
    "    def insert(self,root,data):\n",
    "        if root is None:\n",
    "            return Node(data)\n",
    "        if data < root.data:\n",
    "            root.left = self.insert(root.left,data)\n",
    "        if data > root.data:\n",
    "            root.right = self.insert(root.right,data)\n",
    "        return root\n",
    "        \n",
    "\n",
    "\n",
    "\n",
    "    \n",
    "    def delete(self, root, data):\n",
    "        \"\"\"Delete a node from the BST.\"\"\"\n",
    "        # Base case: if tree is empty, nothing to delete\n",
    "        if root is None:\n",
    "            return None\n",
    "\n",
    "        # Recursion down the tree\n",
    "        if data < root.data:\n",
    "            root.left = self.delete(root.left, data)  # Move to left subtree\n",
    "        elif data > root.data:\n",
    "            root.right = self.delete(root.right, data)  # Move to right subtree\n",
    "        else:\n",
    "            # Node found; now handle the deletion cases\n",
    "            # Case with one child or no child\n",
    "            if root.left is None:\n",
    "                return root.right  # No left child, replace with right subtree\n",
    "            if root.right is None:\n",
    "                return root.left  # No right child, replace with left subtree\n",
    "\n",
    "            # Node with two children: Find the inorder successor\n",
    "            successor = root.right.minval()  # Get the inorder successor node\n",
    "            root.data = successor.data  # Replace current node's data with successor's data\n",
    "\n",
    "            # Delete the inorder successor\n",
    "            root.right = self.delete(root.right, successor.data)  # Recur to delete the inorder successor\n",
    "\n",
    "        return root  # Return the updated subtree root\n",
    "    \n",
    "    def height(self):\n",
    "        # Base case: if the node is None, height is -1\n",
    "        if self is None:\n",
    "            return -1\n",
    "        \n",
    "        # If this node is a leaf (no children), return 0\n",
    "        if self.left is None and self.right is None:\n",
    "            return 0\n",
    "        \n",
    "        # Recursively compute the height of the left and right subtrees\n",
    "        left_height = self.left.height() if self.left else -1\n",
    "        right_height = self.right.height() if self.right else -1\n",
    "        \n",
    "        # Return the height of the node\n",
    "        return 1 + max(left_height, right_height)\n",
    "\n"
   ]
  },
  {
   "cell_type": "code",
   "execution_count": 216,
   "metadata": {},
   "outputs": [],
   "source": [
    "root = Node(5)\n",
    "root.left = Node(6)\n",
    "root.right = Node(7)"
   ]
  },
  {
   "cell_type": "code",
   "execution_count": 217,
   "metadata": {},
   "outputs": [
    {
     "name": "stdout",
     "output_type": "stream",
     "text": [
      "6-> 5-> 7-> "
     ]
    }
   ],
   "source": [
    "root.inorder(root)\n",
    "#root.insert(root,)"
   ]
  },
  {
   "cell_type": "code",
   "execution_count": 209,
   "metadata": {},
   "outputs": [
    {
     "data": {
      "text/plain": [
       "<__main__.Node at 0x10d9048ddf0>"
      ]
     },
     "execution_count": 209,
     "metadata": {},
     "output_type": "execute_result"
    }
   ],
   "source": [
    "root.insert(root,3)"
   ]
  },
  {
   "cell_type": "code",
   "execution_count": 218,
   "metadata": {},
   "outputs": [
    {
     "data": {
      "text/plain": [
       "1"
      ]
     },
     "execution_count": 218,
     "metadata": {},
     "output_type": "execute_result"
    }
   ],
   "source": [
    "root.height()"
   ]
  },
  {
   "cell_type": "code",
   "execution_count": 184,
   "metadata": {},
   "outputs": [
    {
     "data": {
      "text/plain": [
       "<__main__.Node at 0x10d9042c950>"
      ]
     },
     "execution_count": 184,
     "metadata": {},
     "output_type": "execute_result"
    }
   ],
   "source": [
    "root.delete(root,7)"
   ]
  },
  {
   "cell_type": "code",
   "execution_count": 155,
   "metadata": {},
   "outputs": [
    {
     "name": "stdout",
     "output_type": "stream",
     "text": [
      "3-> 6-> 5-> 7-> 76-> "
     ]
    }
   ],
   "source": [
    "root.inorder(root)"
   ]
  },
  {
   "cell_type": "code",
   "execution_count": 154,
   "metadata": {},
   "outputs": [
    {
     "data": {
      "text/plain": [
       "<__main__.Node at 0x10d9047ce00>"
      ]
     },
     "execution_count": 154,
     "metadata": {},
     "output_type": "execute_result"
    }
   ],
   "source": [
    "root.insert(root,3)"
   ]
  },
  {
   "cell_type": "code",
   "execution_count": 156,
   "metadata": {},
   "outputs": [],
   "source": [
    "root=root.delete(root,6)"
   ]
  },
  {
   "cell_type": "code",
   "execution_count": 158,
   "metadata": {},
   "outputs": [
    {
     "name": "stdout",
     "output_type": "stream",
     "text": [
      "3-> 6-> 5-> 7-> 76-> "
     ]
    }
   ],
   "source": [
    "root.inorder(root)"
   ]
  },
  {
   "cell_type": "code",
   "execution_count": 219,
   "metadata": {},
   "outputs": [
    {
     "data": {
      "text/plain": [
       "7"
      ]
     },
     "execution_count": 219,
     "metadata": {},
     "output_type": "execute_result"
    }
   ],
   "source": [
    "root.maxval(root)"
   ]
  }
 ],
 "metadata": {
  "kernelspec": {
   "display_name": "Python 3",
   "language": "python",
   "name": "python3"
  },
  "language_info": {
   "codemirror_mode": {
    "name": "ipython",
    "version": 3
   },
   "file_extension": ".py",
   "mimetype": "text/x-python",
   "name": "python",
   "nbconvert_exporter": "python",
   "pygments_lexer": "ipython3",
   "version": "3.12.4"
  }
 },
 "nbformat": 4,
 "nbformat_minor": 2
}
